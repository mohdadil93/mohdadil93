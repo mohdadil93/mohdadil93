{
  "nbformat": 4,
  "nbformat_minor": 0,
  "metadata": {
    "colab": {
      "name": "Assignment0-Mohamed Adil.ipynb",
      "provenance": [],
      "collapsed_sections": [],
      "authorship_tag": "ABX9TyOUjFRQ3Y8lTePBjreQm+s4",
      "include_colab_link": true
    },
    "kernelspec": {
      "name": "python3",
      "display_name": "Python 3"
    },
    "language_info": {
      "name": "python"
    }
  },
  "cells": [
    {
      "cell_type": "markdown",
      "metadata": {
        "id": "view-in-github",
        "colab_type": "text"
      },
      "source": [
        "<a href=\"https://colab.research.google.com/github/mohdadil93/mohdadil93/blob/main/Assignment0_Mohamed_Adil.ipynb\" target=\"_parent\"><img src=\"https://colab.research.google.com/assets/colab-badge.svg\" alt=\"Open In Colab\"/></a>"
      ]
    },
    {
      "cell_type": "code",
      "execution_count": null,
      "metadata": {
        "id": "cOdL6n_NTdfQ"
      },
      "outputs": [],
      "source": [
        "import re\n",
        "f=open(\"db1.txt\",\"a\")\n",
        "f.close()\n",
        "def register(email,password):\n",
        "  regex1 = r'\\b[A-Z|a-z]+@[A-Z|a-z]+\\.[A-Z|a-z]{2,3}\\b'\n",
        "  regex2 = \"^.*(?=.{6,15})(?=.*\\d)(?=.*[a-z])(?=.*[A-Z])(?=.*[!@#$%^&*()-+?_=,<>/]).*$\"\n",
        "  result1 = re.findall(regex1, email)\n",
        "  result2 = re.findall(regex2, password)\n",
        "  if (result1 and result2):\n",
        "    print(\"Successfuly registered, use credentials to login again\")\n",
        "    f=open(\"db1.txt\",\"a\")\n",
        "    f.write(email+\",\"+password+\"\\n\")\n",
        "    f.close()\n",
        "  else:\n",
        "    print(\"Incorrect Email/Password, please ensure your credentials meet the criteria for setting username and password\")\n",
        "\n",
        "def login(email,password):\n",
        "  success=False\n",
        "  f=open(\"db1.txt\",\"r\")\n",
        "  for i in f:\n",
        "    a,b=i.split(\",\")\n",
        "    b=b.strip()\n",
        "    if(a==email and b==password):\n",
        "      success=True\n",
        "      break\n",
        "  f.close()\n",
        "  if(success):\n",
        "    print(\"Login Successful\")\n",
        "  else:\n",
        "    print(\"Wrong email/password, Please register(reg)\")\n",
        "    begin()\n",
        "\n",
        "def forgot():\n",
        "  success=False\n",
        "  email=input(\"Enter username/email to retrieve your original password: \")\n",
        "  f=open(\"db1.txt\",\"r\")\n",
        "  for i in f:\n",
        "    a,b=i.split(\",\")\n",
        "    b=b.strip()\n",
        "    if(a==email):\n",
        "      success=True\n",
        "      break\n",
        "  f.close()\n",
        "  if(success):\n",
        "    print(\"Password for the username enetered is :\"+b)\n",
        "  else:\n",
        "    print(\"Username does not exist, Please register(reg)\")\n",
        "    begin()\n",
        "\n",
        "def begin():\n",
        "  global option\n",
        "  option=input(\"Enter the correct option: 'login' to Login, 'reg' to Register and 'forgot' in case of Forgot Password: \")\n",
        "  if(option==\"login\"):\n",
        "    email=input(\"Enter username/email: \")\n",
        "    password=input(\"Enter password: \")\n",
        "    login(email,password)\n",
        "  elif (option==\"reg\"):\n",
        "    print(\"<<Conditions for username: Should not start with special characters/numbers and should have proper syntax like xxx@gmail.com/yyy@yahoo.in>>\")\n",
        "    email=input(\"Enter username/email to register: \")\n",
        "    print(\"<<Conditions for password: Must have minimum 1 special character/1 digit/1 uppercase letter/1 lowercase letter and length should be less than 16 and greater than 5 characters>>\")\n",
        "    password=input(\"Enter the password to register: \")\n",
        "    register(email,password)\n",
        "  elif (option==\"forgot\"):\n",
        "    forgot()\n",
        "  if (option!=\"login\" and option!=\"reg\" and option!=\"forgot\"):\n",
        "    begin()\n",
        "begin()"
      ]
    }
  ]
}