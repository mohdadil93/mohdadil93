{
  "cells": [
    {
      "cell_type": "code",
      "execution_count": 29,
      "metadata": {
        "id": "2N4gas2E34zB"
      },
      "outputs": [],
      "source": [
        "import pandas as pd\n",
        "import matplotlib.pyplot as plt\n",
        "import numpy as np\n",
        "from sklearn import linear_model\n",
        "from itertools import combinations\n",
        "import statsmodels.api as sm"
      ]
    },
    {
      "cell_type": "markdown",
      "metadata": {
        "id": "qbQsUX_634zF"
      },
      "source": [
        "# Assignment5\n"
      ]
    },
    {
      "cell_type": "markdown",
      "metadata": {
        "id": "n3WO9MiS34zH"
      },
      "source": [
        "## Ground Cricket Chirps\n",
        "\n",
        "In _The Song of Insects_ (1948) by George W. Pierce, Pierce mechanically measured the frequency (the number of wing vibrations per second) of chirps (or pulses of sound) made by a striped ground cricket, at various ground temperatures.  Since crickets are ectotherms (cold-blooded), the rate of their physiological processes and their overall metabolism are influenced by temperature.  Consequently, there is reason to believe that temperature would have a profound effect on aspects of their behavior, such as chirp frequency.\n",
        "\n",
        "In general, it was found that crickets did not sing at temperatures colder than 60º F. or warmer than 100º F."
      ]
    },
    {
      "cell_type": "code",
      "execution_count": null,
      "metadata": {
        "id": "-QIdtrfT34zI"
      },
      "outputs": [],
      "source": [
        "ground_cricket_data = {\"Chirps/Second\": [20.0, 16.0, 19.8, 18.4, 17.1, 15.5, 14.7,\n",
        "                                         15.7, 15.4, 16.3, 15.0, 17.2, 16.0, 17.0,\n",
        "                                         14.4],\n",
        "                       \"Ground Temperature\": [88.6, 71.6, 93.3, 84.3, 80.6, 75.2, 69.7,\n",
        "                                              71.6, 69.4, 83.3, 79.6, 82.6, 80.6, 83.5,\n",
        "                                              76.3]}\n",
        "df = pd.DataFrame(ground_cricket_data)"
      ]
    },
    {
      "cell_type": "markdown",
      "metadata": {
        "id": "wx90NxsQ34zJ"
      },
      "source": [
        "### Tasks\n",
        "\n",
        "1. Find the linear regression equation for this data.\n",
        "2. Chart the original data and the equation on the chart.\n",
        "3. Find the equation's $R^2$ score (use the `.score` method) to determine whether the\n",
        "equation is a good fit for this data. (0.8 and greater is considered a strong correlation.)\n",
        "4. Extrapolate data:  If the ground temperature reached 95, then at what approximate rate would you expect the crickets to be chirping?\n",
        "5. Interpolate data:  With a listening device, you discovered that on a particular morning the crickets were chirping at a rate of 18 chirps per second.  What was the approximate ground temperature that morning? "
      ]
    },
    {
      "cell_type": "code",
      "source": [
        "df"
      ],
      "metadata": {
        "colab": {
          "base_uri": "https://localhost:8080/",
          "height": 520
        },
        "id": "N4USNCS66yhN",
        "outputId": "b9d9d543-8f4b-45fc-b93c-0cd0590b4af6"
      },
      "execution_count": null,
      "outputs": [
        {
          "output_type": "execute_result",
          "data": {
            "text/plain": [
              "    Chirps/Second  Ground Temperature\n",
              "0            20.0                88.6\n",
              "1            16.0                71.6\n",
              "2            19.8                93.3\n",
              "3            18.4                84.3\n",
              "4            17.1                80.6\n",
              "5            15.5                75.2\n",
              "6            14.7                69.7\n",
              "7            15.7                71.6\n",
              "8            15.4                69.4\n",
              "9            16.3                83.3\n",
              "10           15.0                79.6\n",
              "11           17.2                82.6\n",
              "12           16.0                80.6\n",
              "13           17.0                83.5\n",
              "14           14.4                76.3"
            ],
            "text/html": [
              "\n",
              "  <div id=\"df-93aebcb1-5641-40c2-a321-ec8d76439367\">\n",
              "    <div class=\"colab-df-container\">\n",
              "      <div>\n",
              "<style scoped>\n",
              "    .dataframe tbody tr th:only-of-type {\n",
              "        vertical-align: middle;\n",
              "    }\n",
              "\n",
              "    .dataframe tbody tr th {\n",
              "        vertical-align: top;\n",
              "    }\n",
              "\n",
              "    .dataframe thead th {\n",
              "        text-align: right;\n",
              "    }\n",
              "</style>\n",
              "<table border=\"1\" class=\"dataframe\">\n",
              "  <thead>\n",
              "    <tr style=\"text-align: right;\">\n",
              "      <th></th>\n",
              "      <th>Chirps/Second</th>\n",
              "      <th>Ground Temperature</th>\n",
              "    </tr>\n",
              "  </thead>\n",
              "  <tbody>\n",
              "    <tr>\n",
              "      <th>0</th>\n",
              "      <td>20.0</td>\n",
              "      <td>88.6</td>\n",
              "    </tr>\n",
              "    <tr>\n",
              "      <th>1</th>\n",
              "      <td>16.0</td>\n",
              "      <td>71.6</td>\n",
              "    </tr>\n",
              "    <tr>\n",
              "      <th>2</th>\n",
              "      <td>19.8</td>\n",
              "      <td>93.3</td>\n",
              "    </tr>\n",
              "    <tr>\n",
              "      <th>3</th>\n",
              "      <td>18.4</td>\n",
              "      <td>84.3</td>\n",
              "    </tr>\n",
              "    <tr>\n",
              "      <th>4</th>\n",
              "      <td>17.1</td>\n",
              "      <td>80.6</td>\n",
              "    </tr>\n",
              "    <tr>\n",
              "      <th>5</th>\n",
              "      <td>15.5</td>\n",
              "      <td>75.2</td>\n",
              "    </tr>\n",
              "    <tr>\n",
              "      <th>6</th>\n",
              "      <td>14.7</td>\n",
              "      <td>69.7</td>\n",
              "    </tr>\n",
              "    <tr>\n",
              "      <th>7</th>\n",
              "      <td>15.7</td>\n",
              "      <td>71.6</td>\n",
              "    </tr>\n",
              "    <tr>\n",
              "      <th>8</th>\n",
              "      <td>15.4</td>\n",
              "      <td>69.4</td>\n",
              "    </tr>\n",
              "    <tr>\n",
              "      <th>9</th>\n",
              "      <td>16.3</td>\n",
              "      <td>83.3</td>\n",
              "    </tr>\n",
              "    <tr>\n",
              "      <th>10</th>\n",
              "      <td>15.0</td>\n",
              "      <td>79.6</td>\n",
              "    </tr>\n",
              "    <tr>\n",
              "      <th>11</th>\n",
              "      <td>17.2</td>\n",
              "      <td>82.6</td>\n",
              "    </tr>\n",
              "    <tr>\n",
              "      <th>12</th>\n",
              "      <td>16.0</td>\n",
              "      <td>80.6</td>\n",
              "    </tr>\n",
              "    <tr>\n",
              "      <th>13</th>\n",
              "      <td>17.0</td>\n",
              "      <td>83.5</td>\n",
              "    </tr>\n",
              "    <tr>\n",
              "      <th>14</th>\n",
              "      <td>14.4</td>\n",
              "      <td>76.3</td>\n",
              "    </tr>\n",
              "  </tbody>\n",
              "</table>\n",
              "</div>\n",
              "      <button class=\"colab-df-convert\" onclick=\"convertToInteractive('df-93aebcb1-5641-40c2-a321-ec8d76439367')\"\n",
              "              title=\"Convert this dataframe to an interactive table.\"\n",
              "              style=\"display:none;\">\n",
              "        \n",
              "  <svg xmlns=\"http://www.w3.org/2000/svg\" height=\"24px\"viewBox=\"0 0 24 24\"\n",
              "       width=\"24px\">\n",
              "    <path d=\"M0 0h24v24H0V0z\" fill=\"none\"/>\n",
              "    <path d=\"M18.56 5.44l.94 2.06.94-2.06 2.06-.94-2.06-.94-.94-2.06-.94 2.06-2.06.94zm-11 1L8.5 8.5l.94-2.06 2.06-.94-2.06-.94L8.5 2.5l-.94 2.06-2.06.94zm10 10l.94 2.06.94-2.06 2.06-.94-2.06-.94-.94-2.06-.94 2.06-2.06.94z\"/><path d=\"M17.41 7.96l-1.37-1.37c-.4-.4-.92-.59-1.43-.59-.52 0-1.04.2-1.43.59L10.3 9.45l-7.72 7.72c-.78.78-.78 2.05 0 2.83L4 21.41c.39.39.9.59 1.41.59.51 0 1.02-.2 1.41-.59l7.78-7.78 2.81-2.81c.8-.78.8-2.07 0-2.86zM5.41 20L4 18.59l7.72-7.72 1.47 1.35L5.41 20z\"/>\n",
              "  </svg>\n",
              "      </button>\n",
              "      \n",
              "  <style>\n",
              "    .colab-df-container {\n",
              "      display:flex;\n",
              "      flex-wrap:wrap;\n",
              "      gap: 12px;\n",
              "    }\n",
              "\n",
              "    .colab-df-convert {\n",
              "      background-color: #E8F0FE;\n",
              "      border: none;\n",
              "      border-radius: 50%;\n",
              "      cursor: pointer;\n",
              "      display: none;\n",
              "      fill: #1967D2;\n",
              "      height: 32px;\n",
              "      padding: 0 0 0 0;\n",
              "      width: 32px;\n",
              "    }\n",
              "\n",
              "    .colab-df-convert:hover {\n",
              "      background-color: #E2EBFA;\n",
              "      box-shadow: 0px 1px 2px rgba(60, 64, 67, 0.3), 0px 1px 3px 1px rgba(60, 64, 67, 0.15);\n",
              "      fill: #174EA6;\n",
              "    }\n",
              "\n",
              "    [theme=dark] .colab-df-convert {\n",
              "      background-color: #3B4455;\n",
              "      fill: #D2E3FC;\n",
              "    }\n",
              "\n",
              "    [theme=dark] .colab-df-convert:hover {\n",
              "      background-color: #434B5C;\n",
              "      box-shadow: 0px 1px 3px 1px rgba(0, 0, 0, 0.15);\n",
              "      filter: drop-shadow(0px 1px 2px rgba(0, 0, 0, 0.3));\n",
              "      fill: #FFFFFF;\n",
              "    }\n",
              "  </style>\n",
              "\n",
              "      <script>\n",
              "        const buttonEl =\n",
              "          document.querySelector('#df-93aebcb1-5641-40c2-a321-ec8d76439367 button.colab-df-convert');\n",
              "        buttonEl.style.display =\n",
              "          google.colab.kernel.accessAllowed ? 'block' : 'none';\n",
              "\n",
              "        async function convertToInteractive(key) {\n",
              "          const element = document.querySelector('#df-93aebcb1-5641-40c2-a321-ec8d76439367');\n",
              "          const dataTable =\n",
              "            await google.colab.kernel.invokeFunction('convertToInteractive',\n",
              "                                                     [key], {});\n",
              "          if (!dataTable) return;\n",
              "\n",
              "          const docLinkHtml = 'Like what you see? Visit the ' +\n",
              "            '<a target=\"_blank\" href=https://colab.research.google.com/notebooks/data_table.ipynb>data table notebook</a>'\n",
              "            + ' to learn more about interactive tables.';\n",
              "          element.innerHTML = '';\n",
              "          dataTable['output_type'] = 'display_data';\n",
              "          await google.colab.output.renderOutput(dataTable, element);\n",
              "          const docLink = document.createElement('div');\n",
              "          docLink.innerHTML = docLinkHtml;\n",
              "          element.appendChild(docLink);\n",
              "        }\n",
              "      </script>\n",
              "    </div>\n",
              "  </div>\n",
              "  "
            ]
          },
          "metadata": {},
          "execution_count": 38
        }
      ]
    },
    {
      "cell_type": "code",
      "source": [
        "x=df['Ground Temperature']\n",
        "x=x.to_frame()\n",
        "y=df['Chirps/Second']"
      ],
      "metadata": {
        "id": "dFb10eod8bLd"
      },
      "execution_count": null,
      "outputs": []
    },
    {
      "cell_type": "code",
      "source": [
        "linreg=linear_model.LinearRegression()\n",
        "linreg.fit(x,y)"
      ],
      "metadata": {
        "colab": {
          "base_uri": "https://localhost:8080/"
        },
        "id": "B4Lw-RdP8n5W",
        "outputId": "471eccff-42a4-414d-e3a3-38b9b09fa99d"
      },
      "execution_count": null,
      "outputs": [
        {
          "output_type": "execute_result",
          "data": {
            "text/plain": [
              "LinearRegression()"
            ]
          },
          "metadata": {},
          "execution_count": 40
        }
      ]
    },
    {
      "cell_type": "code",
      "source": [
        "#Linear regression equation for this data\n",
        "print('intercept:',linreg.intercept_)\n",
        "print('coefficient:',linreg.coef_)"
      ],
      "metadata": {
        "colab": {
          "base_uri": "https://localhost:8080/"
        },
        "id": "cH3DhIRn9LHH",
        "outputId": "bbe743d3-9d38-4feb-b24f-7d46f2b1b140"
      },
      "execution_count": null,
      "outputs": [
        {
          "output_type": "stream",
          "name": "stdout",
          "text": [
            "intercept: 0.45931464523595267\n",
            "coefficient: [0.20299973]\n"
          ]
        }
      ]
    },
    {
      "cell_type": "code",
      "source": [
        "#Chart the original data and the equation on the chart\n",
        "plt.scatter(x,y,color='red')\n",
        "plt.plot(x,linreg.predict(x),color='blue')\n",
        "plt.xlabel('X')\n",
        "plt.ylabel('y')"
      ],
      "metadata": {
        "colab": {
          "base_uri": "https://localhost:8080/",
          "height": 296
        },
        "id": "xyUnOYiGAHNs",
        "outputId": "ec7ed379-eb68-4433-fa81-b08f34913ccd"
      },
      "execution_count": null,
      "outputs": [
        {
          "output_type": "execute_result",
          "data": {
            "text/plain": [
              "Text(0, 0.5, 'y')"
            ]
          },
          "metadata": {},
          "execution_count": 42
        },
        {
          "output_type": "display_data",
          "data": {
            "text/plain": [
              "<Figure size 432x288 with 1 Axes>"
            ],
            "image/png": "[encoded data removed]"
          },
          "metadata": {
            "needs_background": "light"
          }
        }
      ]
    },
    {
      "cell_type": "code",
      "source": [
        "#R2 Score\n",
        "print('R2-Score',linreg.score(x, y))"
      ],
      "metadata": {
        "colab": {
          "base_uri": "https://localhost:8080/"
        },
        "id": "4iNPqtM6oGUo",
        "outputId": "737e6d8e-23c1-4466-cfb4-f009ae436d53"
      },
      "execution_count": null,
      "outputs": [
        {
          "output_type": "stream",
          "name": "stdout",
          "text": [
            "R2-Score 0.6922946529146998\n"
          ]
        }
      ]
    },
    {
      "cell_type": "code",
      "source": [
        "#Extrapolate data if temp was 95\n",
        "linreg.predict([[95]])"
      ],
      "metadata": {
        "colab": {
          "base_uri": "https://localhost:8080/"
        },
        "id": "yYl6I9d4oOR_",
        "outputId": "2aa569d3-b4cf-4e17-a579-9f055abb38bd"
      },
      "execution_count": null,
      "outputs": [
        {
          "output_type": "stream",
          "name": "stderr",
          "text": [
            "/usr/local/lib/python3.7/dist-packages/sklearn/base.py:451: UserWarning: X does not have valid feature names, but LinearRegression was fitted with feature names\n",
            "  \"X does not have valid feature names, but\"\n"
          ]
        },
        {
          "output_type": "execute_result",
          "data": {
            "text/plain": [
              "array([19.74428913])"
            ]
          },
          "metadata": {},
          "execution_count": 44
        }
      ]
    },
    {
      "cell_type": "code",
      "source": [
        "#Interpolate data if chirping was 18\n",
        "(18-linreg.intercept_)/linreg.coef_"
      ],
      "metadata": {
        "colab": {
          "base_uri": "https://localhost:8080/"
        },
        "id": "BrbiD0xnqGpA",
        "outputId": "42fd2315-63f6-4d8b-9577-e3965b7f4bd1"
      },
      "execution_count": null,
      "outputs": [
        {
          "output_type": "execute_result",
          "data": {
            "text/plain": [
              "array([86.40743135])"
            ]
          },
          "metadata": {},
          "execution_count": 45
        }
      ]
    },
    {
      "cell_type": "markdown",
      "metadata": {
        "id": "7YbRXy7U34zK"
      },
      "source": [
        "# Assignment6"
      ]
    },
    {
      "cell_type": "markdown",
      "metadata": {
        "id": "horYUXH234zL"
      },
      "source": [
        "## Brain vs. Body Weight\n",
        "\n",
        "In the file `brain_body.txt`, the average brain and body weight for a number of mammal species are recorded. Load this data into a Pandas data frame.\n",
        "\n",
        "### Tasks\n",
        "\n",
        "1. Find the linear regression equation for this data for brain weight to body weight.\n",
        "2. Chart the original data and the equation on the chart.\n",
        "3. Find the equation's $R^2$ score (use the `.score` method) to determine whether the\n",
        "equation is a good fit for this data. (0.8 and greater is considered a strong correlation.)"
      ]
    },
    {
      "cell_type": "code",
      "execution_count": null,
      "metadata": {
        "id": "gMtX4os434zM"
      },
      "outputs": [],
      "source": [
        "df1=pd.read_fwf(\"/content/brain_body.txt\")"
      ]
    },
    {
      "cell_type": "code",
      "source": [
        "df1"
      ],
      "metadata": {
        "colab": {
          "base_uri": "https://localhost:8080/",
          "height": 424
        },
        "id": "8zz4L_ZdrZ8g",
        "outputId": "ce6296bf-1bf6-4d02-f59c-4fc12f142b1c"
      },
      "execution_count": null,
      "outputs": [
        {
          "output_type": "execute_result",
          "data": {
            "text/plain": [
              "      Brain   Body\n",
              "0     3.385   44.5\n",
              "1     0.480   15.5\n",
              "2     1.350    8.1\n",
              "3   465.000  423.0\n",
              "4    36.330  119.5\n",
              "..      ...    ...\n",
              "57  160.000  169.0\n",
              "58    0.900    2.6\n",
              "59    1.620   11.4\n",
              "60    0.104    2.5\n",
              "61    4.235   50.4\n",
              "\n",
              "[62 rows x 2 columns]"
            ],
            "text/html": [
              "\n",
              "  <div id=\"df-9d5d9b83-0e70-4df2-8b72-ff6e4fa29c61\">\n",
              "    <div class=\"colab-df-container\">\n",
              "      <div>\n",
              "<style scoped>\n",
              "    .dataframe tbody tr th:only-of-type {\n",
              "        vertical-align: middle;\n",
              "    }\n",
              "\n",
              "    .dataframe tbody tr th {\n",
              "        vertical-align: top;\n",
              "    }\n",
              "\n",
              "    .dataframe thead th {\n",
              "        text-align: right;\n",
              "    }\n",
              "</style>\n",
              "<table border=\"1\" class=\"dataframe\">\n",
              "  <thead>\n",
              "    <tr style=\"text-align: right;\">\n",
              "      <th></th>\n",
              "      <th>Brain</th>\n",
              "      <th>Body</th>\n",
              "    </tr>\n",
              "  </thead>\n",
              "  <tbody>\n",
              "    <tr>\n",
              "      <th>0</th>\n",
              "      <td>3.385</td>\n",
              "      <td>44.5</td>\n",
              "    </tr>\n",
              "    <tr>\n",
              "      <th>1</th>\n",
              "      <td>0.480</td>\n",
              "      <td>15.5</td>\n",
              "    </tr>\n",
              "    <tr>\n",
              "      <th>2</th>\n",
              "      <td>1.350</td>\n",
              "      <td>8.1</td>\n",
              "    </tr>\n",
              "    <tr>\n",
              "      <th>3</th>\n",
              "      <td>465.000</td>\n",
              "      <td>423.0</td>\n",
              "    </tr>\n",
              "    <tr>\n",
              "      <th>4</th>\n",
              "      <td>36.330</td>\n",
              "      <td>119.5</td>\n",
              "    </tr>\n",
              "    <tr>\n",
              "      <th>...</th>\n",
              "      <td>...</td>\n",
              "      <td>...</td>\n",
              "    </tr>\n",
              "    <tr>\n",
              "      <th>57</th>\n",
              "      <td>160.000</td>\n",
              "      <td>169.0</td>\n",
              "    </tr>\n",
              "    <tr>\n",
              "      <th>58</th>\n",
              "      <td>0.900</td>\n",
              "      <td>2.6</td>\n",
              "    </tr>\n",
              "    <tr>\n",
              "      <th>59</th>\n",
              "      <td>1.620</td>\n",
              "      <td>11.4</td>\n",
              "    </tr>\n",
              "    <tr>\n",
              "      <th>60</th>\n",
              "      <td>0.104</td>\n",
              "      <td>2.5</td>\n",
              "    </tr>\n",
              "    <tr>\n",
              "      <th>61</th>\n",
              "      <td>4.235</td>\n",
              "      <td>50.4</td>\n",
              "    </tr>\n",
              "  </tbody>\n",
              "</table>\n",
              "<p>62 rows × 2 columns</p>\n",
              "</div>\n",
              "      <button class=\"colab-df-convert\" onclick=\"convertToInteractive('df-9d5d9b83-0e70-4df2-8b72-ff6e4fa29c61')\"\n",
              "              title=\"Convert this dataframe to an interactive table.\"\n",
              "              style=\"display:none;\">\n",
              "        \n",
              "  <svg xmlns=\"http://www.w3.org/2000/svg\" height=\"24px\"viewBox=\"0 0 24 24\"\n",
              "       width=\"24px\">\n",
              "    <path d=\"M0 0h24v24H0V0z\" fill=\"none\"/>\n",
              "    <path d=\"M18.56 5.44l.94 2.06.94-2.06 2.06-.94-2.06-.94-.94-2.06-.94 2.06-2.06.94zm-11 1L8.5 8.5l.94-2.06 2.06-.94-2.06-.94L8.5 2.5l-.94 2.06-2.06.94zm10 10l.94 2.06.94-2.06 2.06-.94-2.06-.94-.94-2.06-.94 2.06-2.06.94z\"/><path d=\"M17.41 7.96l-1.37-1.37c-.4-.4-.92-.59-1.43-.59-.52 0-1.04.2-1.43.59L10.3 9.45l-7.72 7.72c-.78.78-.78 2.05 0 2.83L4 21.41c.39.39.9.59 1.41.59.51 0 1.02-.2 1.41-.59l7.78-7.78 2.81-2.81c.8-.78.8-2.07 0-2.86zM5.41 20L4 18.59l7.72-7.72 1.47 1.35L5.41 20z\"/>\n",
              "  </svg>\n",
              "      </button>\n",
              "      \n",
              "  <style>\n",
              "    .colab-df-container {\n",
              "      display:flex;\n",
              "      flex-wrap:wrap;\n",
              "      gap: 12px;\n",
              "    }\n",
              "\n",
              "    .colab-df-convert {\n",
              "      background-color: #E8F0FE;\n",
              "      border: none;\n",
              "      border-radius: 50%;\n",
              "      cursor: pointer;\n",
              "      display: none;\n",
              "      fill: #1967D2;\n",
              "      height: 32px;\n",
              "      padding: 0 0 0 0;\n",
              "      width: 32px;\n",
              "    }\n",
              "\n",
              "    .colab-df-convert:hover {\n",
              "      background-color: #E2EBFA;\n",
              "      box-shadow: 0px 1px 2px rgba(60, 64, 67, 0.3), 0px 1px 3px 1px rgba(60, 64, 67, 0.15);\n",
              "      fill: #174EA6;\n",
              "    }\n",
              "\n",
              "    [theme=dark] .colab-df-convert {\n",
              "      background-color: #3B4455;\n",
              "      fill: #D2E3FC;\n",
              "    }\n",
              "\n",
              "    [theme=dark] .colab-df-convert:hover {\n",
              "      background-color: #434B5C;\n",
              "      box-shadow: 0px 1px 3px 1px rgba(0, 0, 0, 0.15);\n",
              "      filter: drop-shadow(0px 1px 2px rgba(0, 0, 0, 0.3));\n",
              "      fill: #FFFFFF;\n",
              "    }\n",
              "  </style>\n",
              "\n",
              "      <script>\n",
              "        const buttonEl =\n",
              "          document.querySelector('#df-9d5d9b83-0e70-4df2-8b72-ff6e4fa29c61 button.colab-df-convert');\n",
              "        buttonEl.style.display =\n",
              "          google.colab.kernel.accessAllowed ? 'block' : 'none';\n",
              "\n",
              "        async function convertToInteractive(key) {\n",
              "          const element = document.querySelector('#df-9d5d9b83-0e70-4df2-8b72-ff6e4fa29c61');\n",
              "          const dataTable =\n",
              "            await google.colab.kernel.invokeFunction('convertToInteractive',\n",
              "                                                     [key], {});\n",
              "          if (!dataTable) return;\n",
              "\n",
              "          const docLinkHtml = 'Like what you see? Visit the ' +\n",
              "            '<a target=\"_blank\" href=https://colab.research.google.com/notebooks/data_table.ipynb>data table notebook</a>'\n",
              "            + ' to learn more about interactive tables.';\n",
              "          element.innerHTML = '';\n",
              "          dataTable['output_type'] = 'display_data';\n",
              "          await google.colab.output.renderOutput(dataTable, element);\n",
              "          const docLink = document.createElement('div');\n",
              "          docLink.innerHTML = docLinkHtml;\n",
              "          element.appendChild(docLink);\n",
              "        }\n",
              "      </script>\n",
              "    </div>\n",
              "  </div>\n",
              "  "
            ]
          },
          "metadata": {},
          "execution_count": 47
        }
      ]
    },
    {
      "cell_type": "code",
      "source": [
        "x1=df1['Brain']\n",
        "x1=x1.to_frame()\n",
        "y1=df1['Body']"
      ],
      "metadata": {
        "id": "gQHYmasVrcrI"
      },
      "execution_count": null,
      "outputs": []
    },
    {
      "cell_type": "code",
      "source": [
        "linreg1=linear_model.LinearRegression()\n",
        "linreg1.fit(x1,y1)"
      ],
      "metadata": {
        "colab": {
          "base_uri": "https://localhost:8080/"
        },
        "id": "b82Eu2aUrvIZ",
        "outputId": "4c346894-305a-497a-af8a-5e237b841814"
      },
      "execution_count": null,
      "outputs": [
        {
          "output_type": "execute_result",
          "data": {
            "text/plain": [
              "LinearRegression()"
            ]
          },
          "metadata": {},
          "execution_count": 57
        }
      ]
    },
    {
      "cell_type": "code",
      "source": [
        "#Linear regression equation for this data\n",
        "print('intercept:',linreg1.intercept_)\n",
        "print('coefficient:',linreg1.coef_)"
      ],
      "metadata": {
        "colab": {
          "base_uri": "https://localhost:8080/"
        },
        "id": "4PNSIaHVsY1p",
        "outputId": "913975ee-99f5-45ff-aab6-96990dccddb5"
      },
      "execution_count": null,
      "outputs": [
        {
          "output_type": "stream",
          "name": "stdout",
          "text": [
            "intercept: 91.00439620740687\n",
            "coefficient: [0.96649637]\n"
          ]
        }
      ]
    },
    {
      "cell_type": "code",
      "source": [
        "#Chart the original data and the equation on the chart\n",
        "plt.scatter(x1,y1,color='yellow')\n",
        "plt.plot(x1,linreg1.predict(x1),color='purple')\n",
        "plt.xlabel('X')\n",
        "plt.ylabel('y')"
      ],
      "metadata": {
        "colab": {
          "base_uri": "https://localhost:8080/",
          "height": 296
        },
        "id": "ehHVwHP5sbrI",
        "outputId": "653c2d5e-6881-4a90-92fe-1baa8e1a4253"
      },
      "execution_count": null,
      "outputs": [
        {
          "output_type": "execute_result",
          "data": {
            "text/plain": [
              "Text(0, 0.5, 'y')"
            ]
          },
          "metadata": {},
          "execution_count": 59
        },
        {
          "output_type": "display_data",
          "data": {
            "text/plain": [
              "<Figure size 432x288 with 1 Axes>"
            ],
            "image/png": "[encoded data removed]"
          },
          "metadata": {
            "needs_background": "light"
          }
        }
      ]
    },
    {
      "cell_type": "code",
      "source": [
        "#R2 Score\n",
        "print('R2-Score',linreg1.score(x1,y1))"
      ],
      "metadata": {
        "colab": {
          "base_uri": "https://localhost:8080/"
        },
        "id": "ztbmmLUktD7U",
        "outputId": "f7246b93-3bc6-4b2b-9489-d0b4a68cb084"
      },
      "execution_count": null,
      "outputs": [
        {
          "output_type": "stream",
          "name": "stdout",
          "text": [
            "R2-Score 0.8726620843043331\n"
          ]
        }
      ]
    },
    {
      "cell_type": "markdown",
      "metadata": {
        "id": "4auDuUAR34zN"
      },
      "source": [
        "# Assignment7"
      ]
    },
    {
      "cell_type": "markdown",
      "metadata": {
        "id": "q2ZiTyoX34zO"
      },
      "source": [
        "## Salary Discrimination\n",
        "\n",
        "The file `salary.txt` contains data for 52 tenure-track professors at a small Midwestern college. This data was used in legal proceedings in the 1980s about discrimination against women in salary.\n",
        "\n",
        "The data in the file, by column:\n",
        "\n",
        "1. Sex. 1 for female, 0 for male.\n",
        "2. Rank. 1 for assistant professor, 2 for associate professor, 3 for full professor.\n",
        "3. Year. Number of years in current rank.\n",
        "4. Degree. Highest degree. 1 for doctorate, 0 for master's.\n",
        "5. YSdeg. Years since highest degree was earned.\n",
        "6. Salary. Salary/year in dollars.\n",
        "\n",
        "### Tasks\n",
        "\n",
        "1. Find the linear regression equation for this data using columns 1-5 to column 6.\n",
        "2. Find the selection of columns with the best $R^2$ score.\n",
        "3. Report whether sex is a factor in salary."
      ]
    },
    {
      "cell_type": "code",
      "execution_count": 2,
      "metadata": {
        "id": "Mj-Wc26-34zP"
      },
      "outputs": [],
      "source": [
        "df2=pd.read_fwf(\"/content/salary.txt\",header=None,names=[\"Sex\",\"Rank\",\"Year\",\"Degree\",\"YSdeg\",\"Salary\"])"
      ]
    },
    {
      "cell_type": "code",
      "source": [
        "feature=['Sex','Rank','Year','Degree','YSdeg']\n",
        "x2=df2[feature]\n",
        "y2=df2.Salary"
      ],
      "metadata": {
        "id": "iRF4-ML2w1p6"
      },
      "execution_count": 3,
      "outputs": []
    },
    {
      "cell_type": "code",
      "source": [
        "linreg2=linear_model.LinearRegression()\n",
        "linreg2.fit(x2,y2)"
      ],
      "metadata": {
        "colab": {
          "base_uri": "https://localhost:8080/"
        },
        "id": "NDUpB7q0xJj6",
        "outputId": "6e9e1d91-0409-425c-ad37-ca1f64d15413"
      },
      "execution_count": 4,
      "outputs": [
        {
          "output_type": "execute_result",
          "data": {
            "text/plain": [
              "LinearRegression()"
            ]
          },
          "metadata": {},
          "execution_count": 4
        }
      ]
    },
    {
      "cell_type": "code",
      "source": [
        "#Find the linear regression equation for this data using columns 1-5 to column 6.\n",
        "print('Features & Coefficients')\n",
        "print(list(zip(feature,linreg2.coef_)))\n",
        "print(\"Intercept: \",linreg2.intercept_)"
      ],
      "metadata": {
        "colab": {
          "base_uri": "https://localhost:8080/"
        },
        "id": "qmD5V8g0xhLJ",
        "outputId": "5fa1f736-6b6b-43ba-a9ec-fc09ba06082c"
      },
      "execution_count": 5,
      "outputs": [
        {
          "output_type": "stream",
          "name": "stdout",
          "text": [
            "Features & Coefficients\n",
            "[('Sex', 1241.792499601427), ('Rank', 5586.1814495214385), ('Year', 482.85976782882153), ('Degree', -1331.6440634059095), ('YSdeg', -128.79057354486122)]\n",
            "Intercept:  11410.14654725559\n"
          ]
        }
      ]
    },
    {
      "cell_type": "code",
      "source": [
        "r_sq=linreg2.score(x2,y2)\n",
        "print(\"R2 Score for equation using all columns: \",r_sq)"
      ],
      "metadata": {
        "colab": {
          "base_uri": "https://localhost:8080/"
        },
        "id": "-997tpct3elH",
        "outputId": "4528131b-a0fb-49a2-dacc-6640ba15681d"
      },
      "execution_count": 6,
      "outputs": [
        {
          "output_type": "stream",
          "name": "stdout",
          "text": [
            "R2 Score for equation using all columns:  0.8547180674410969\n"
          ]
        }
      ]
    },
    {
      "cell_type": "code",
      "source": [
        "cols=[x2 for x2 in df2 if x2 != 'Salary']\n",
        "fit_d={}\n",
        "\n",
        "for i in range(1, len(cols)+1):\n",
        "  for comb in combinations(cols, i):\n",
        "    x2 = df2[list(comb)]\n",
        "    x2 = sm.add_constant(x2)\n",
        "    model = sm.OLS(y2,x2, missing = 'drop').fit()\n",
        "    fit_d[comb] = model.rsquared\n",
        "    print(fit_d)"
      ],
      "metadata": {
        "colab": {
          "base_uri": "https://localhost:8080/"
        },
        "id": "P0bDgcnWgtML",
        "outputId": "fcd7ce71-756d-4da0-d799-c65cb25efa26"
      },
      "execution_count": 30,
      "outputs": [
        {
          "output_type": "stream",
          "name": "stdout",
          "text": [
            "{('Sex',): 0.06389892583288015}\n",
            "{('Sex',): 0.06389892583288015, ('Rank',): 0.7525360539274631}\n",
            "{('Sex',): 0.06389892583288015, ('Rank',): 0.7525360539274631, ('Year',): 0.49093702676921624}\n",
            "{('Sex',): 0.06389892583288015, ('Rank',): 0.7525360539274631, ('Year',): 0.49093702676921624, ('Degree',): 0.004861680984748484}\n",
            "{('Sex',): 0.06389892583288015, ('Rank',): 0.7525360539274631, ('Year',): 0.49093702676921624, ('Degree',): 0.004861680984748484, ('YSdeg',): 0.45542813458360276}\n",
            "{('Sex',): 0.06389892583288015, ('Rank',): 0.7525360539274631, ('Year',): 0.49093702676921624, ('Degree',): 0.004861680984748484, ('YSdeg',): 0.45542813458360276, ('Sex', 'Rank'): 0.7554917749443394}\n",
            "{('Sex',): 0.06389892583288015, ('Rank',): 0.7525360539274631, ('Year',): 0.49093702676921624, ('Degree',): 0.004861680984748484, ('YSdeg',): 0.45542813458360276, ('Sex', 'Rank'): 0.7554917749443394, ('Sex', 'Year'): 0.4911360941886388}\n",
            "{('Sex',): 0.06389892583288015, ('Rank',): 0.7525360539274631, ('Year',): 0.49093702676921624, ('Degree',): 0.004861680984748484, ('YSdeg',): 0.45542813458360276, ('Sex', 'Rank'): 0.7554917749443394, ('Sex', 'Year'): 0.4911360941886388, ('Sex', 'Degree'): 0.06643739842018892}\n",
            "{('Sex',): 0.06389892583288015, ('Rank',): 0.7525360539274631, ('Year',): 0.49093702676921624, ('Degree',): 0.004861680984748484, ('YSdeg',): 0.45542813458360276, ('Sex', 'Rank'): 0.7554917749443394, ('Sex', 'Year'): 0.4911360941886388, ('Sex', 'Degree'): 0.06643739842018892, ('Sex', 'YSdeg'): 0.49304792719667834}\n",
            "{('Sex',): 0.06389892583288015, ('Rank',): 0.7525360539274631, ('Year',): 0.49093702676921624, ('Degree',): 0.004861680984748484, ('YSdeg',): 0.45542813458360276, ('Sex', 'Rank'): 0.7554917749443394, ('Sex', 'Year'): 0.4911360941886388, ('Sex', 'Degree'): 0.06643739842018892, ('Sex', 'YSdeg'): 0.49304792719667834, ('Rank', 'Year'): 0.8436480933264598}\n",
            "{('Sex',): 0.06389892583288015, ('Rank',): 0.7525360539274631, ('Year',): 0.49093702676921624, ('Degree',): 0.004861680984748484, ('YSdeg',): 0.45542813458360276, ('Sex', 'Rank'): 0.7554917749443394, ('Sex', 'Year'): 0.4911360941886388, ('Sex', 'Degree'): 0.06643739842018892, ('Sex', 'YSdeg'): 0.49304792719667834, ('Rank', 'Year'): 0.8436480933264598, ('Rank', 'Degree'): 0.7557961688386643}\n",
            "{('Sex',): 0.06389892583288015, ('Rank',): 0.7525360539274631, ('Year',): 0.49093702676921624, ('Degree',): 0.004861680984748484, ('YSdeg',): 0.45542813458360276, ('Sex', 'Rank'): 0.7554917749443394, ('Sex', 'Year'): 0.4911360941886388, ('Sex', 'Degree'): 0.06643739842018892, ('Sex', 'YSdeg'): 0.49304792719667834, ('Rank', 'Year'): 0.8436480933264598, ('Rank', 'Degree'): 0.7557961688386643, ('Rank', 'YSdeg'): 0.7623948189698249}\n",
            "{('Sex',): 0.06389892583288015, ('Rank',): 0.7525360539274631, ('Year',): 0.49093702676921624, ('Degree',): 0.004861680984748484, ('YSdeg',): 0.45542813458360276, ('Sex', 'Rank'): 0.7554917749443394, ('Sex', 'Year'): 0.4911360941886388, ('Sex', 'Degree'): 0.06643739842018892, ('Sex', 'YSdeg'): 0.49304792719667834, ('Rank', 'Year'): 0.8436480933264598, ('Rank', 'Degree'): 0.7557961688386643, ('Rank', 'YSdeg'): 0.7623948189698249, ('Year', 'Degree'): 0.4919014149016442}\n",
            "{('Sex',): 0.06389892583288015, ('Rank',): 0.7525360539274631, ('Year',): 0.49093702676921624, ('Degree',): 0.004861680984748484, ('YSdeg',): 0.45542813458360276, ('Sex', 'Rank'): 0.7554917749443394, ('Sex', 'Year'): 0.4911360941886388, ('Sex', 'Degree'): 0.06643739842018892, ('Sex', 'YSdeg'): 0.49304792719667834, ('Rank', 'Year'): 0.8436480933264598, ('Rank', 'Degree'): 0.7557961688386643, ('Rank', 'YSdeg'): 0.7623948189698249, ('Year', 'Degree'): 0.4919014149016442, ('Year', 'YSdeg'): 0.5782019226431887}\n",
            "{('Sex',): 0.06389892583288015, ('Rank',): 0.7525360539274631, ('Year',): 0.49093702676921624, ('Degree',): 0.004861680984748484, ('YSdeg',): 0.45542813458360276, ('Sex', 'Rank'): 0.7554917749443394, ('Sex', 'Year'): 0.4911360941886388, ('Sex', 'Degree'): 0.06643739842018892, ('Sex', 'YSdeg'): 0.49304792719667834, ('Rank', 'Year'): 0.8436480933264598, ('Rank', 'Degree'): 0.7557961688386643, ('Rank', 'YSdeg'): 0.7623948189698249, ('Year', 'Degree'): 0.4919014149016442, ('Year', 'YSdeg'): 0.5782019226431887, ('Degree', 'YSdeg'): 0.5409662288237875}\n",
            "{('Sex',): 0.06389892583288015, ('Rank',): 0.7525360539274631, ('Year',): 0.49093702676921624, ('Degree',): 0.004861680984748484, ('YSdeg',): 0.45542813458360276, ('Sex', 'Rank'): 0.7554917749443394, ('Sex', 'Year'): 0.4911360941886388, ('Sex', 'Degree'): 0.06643739842018892, ('Sex', 'YSdeg'): 0.49304792719667834, ('Rank', 'Year'): 0.8436480933264598, ('Rank', 'Degree'): 0.7557961688386643, ('Rank', 'YSdeg'): 0.7623948189698249, ('Year', 'Degree'): 0.4919014149016442, ('Year', 'YSdeg'): 0.5782019226431887, ('Degree', 'YSdeg'): 0.5409662288237875, ('Sex', 'Rank', 'Year'): 0.8454319861987165}\n",
            "{('Sex',): 0.06389892583288015, ('Rank',): 0.7525360539274631, ('Year',): 0.49093702676921624, ('Degree',): 0.004861680984748484, ('YSdeg',): 0.45542813458360276, ('Sex', 'Rank'): 0.7554917749443394, ('Sex', 'Year'): 0.4911360941886388, ('Sex', 'Degree'): 0.06643739842018892, ('Sex', 'YSdeg'): 0.49304792719667834, ('Rank', 'Year'): 0.8436480933264598, ('Rank', 'Degree'): 0.7557961688386643, ('Rank', 'YSdeg'): 0.7623948189698249, ('Year', 'Degree'): 0.4919014149016442, ('Year', 'YSdeg'): 0.5782019226431887, ('Degree', 'YSdeg'): 0.5409662288237875, ('Sex', 'Rank', 'Year'): 0.8454319861987165, ('Sex', 'Rank', 'Degree'): 0.7583144768153612}\n",
            "{('Sex',): 0.06389892583288015, ('Rank',): 0.7525360539274631, ('Year',): 0.49093702676921624, ('Degree',): 0.004861680984748484, ('YSdeg',): 0.45542813458360276, ('Sex', 'Rank'): 0.7554917749443394, ('Sex', 'Year'): 0.4911360941886388, ('Sex', 'Degree'): 0.06643739842018892, ('Sex', 'YSdeg'): 0.49304792719667834, ('Rank', 'Year'): 0.8436480933264598, ('Rank', 'Degree'): 0.7557961688386643, ('Rank', 'YSdeg'): 0.7623948189698249, ('Year', 'Degree'): 0.4919014149016442, ('Year', 'YSdeg'): 0.5782019226431887, ('Degree', 'YSdeg'): 0.5409662288237875, ('Sex', 'Rank', 'Year'): 0.8454319861987165, ('Sex', 'Rank', 'Degree'): 0.7583144768153612, ('Sex', 'Rank', 'YSdeg'): 0.7666122610227071}\n",
            "{('Sex',): 0.06389892583288015, ('Rank',): 0.7525360539274631, ('Year',): 0.49093702676921624, ('Degree',): 0.004861680984748484, ('YSdeg',): 0.45542813458360276, ('Sex', 'Rank'): 0.7554917749443394, ('Sex', 'Year'): 0.4911360941886388, ('Sex', 'Degree'): 0.06643739842018892, ('Sex', 'YSdeg'): 0.49304792719667834, ('Rank', 'Year'): 0.8436480933264598, ('Rank', 'Degree'): 0.7557961688386643, ('Rank', 'YSdeg'): 0.7623948189698249, ('Year', 'Degree'): 0.4919014149016442, ('Year', 'YSdeg'): 0.5782019226431887, ('Degree', 'YSdeg'): 0.5409662288237875, ('Sex', 'Rank', 'Year'): 0.8454319861987165, ('Sex', 'Rank', 'Degree'): 0.7583144768153612, ('Sex', 'Rank', 'YSdeg'): 0.7666122610227071, ('Sex', 'Year', 'Degree'): 0.49207944757472966}\n",
            "{('Sex',): 0.06389892583288015, ('Rank',): 0.7525360539274631, ('Year',): 0.49093702676921624, ('Degree',): 0.004861680984748484, ('YSdeg',): 0.45542813458360276, ('Sex', 'Rank'): 0.7554917749443394, ('Sex', 'Year'): 0.4911360941886388, ('Sex', 'Degree'): 0.06643739842018892, ('Sex', 'YSdeg'): 0.49304792719667834, ('Rank', 'Year'): 0.8436480933264598, ('Rank', 'Degree'): 0.7557961688386643, ('Rank', 'YSdeg'): 0.7623948189698249, ('Year', 'Degree'): 0.4919014149016442, ('Year', 'YSdeg'): 0.5782019226431887, ('Degree', 'YSdeg'): 0.5409662288237875, ('Sex', 'Rank', 'Year'): 0.8454319861987165, ('Sex', 'Rank', 'Degree'): 0.7583144768153612, ('Sex', 'Rank', 'YSdeg'): 0.7666122610227071, ('Sex', 'Year', 'Degree'): 0.49207944757472966, ('Sex', 'Year', 'YSdeg'): 0.5808063918180406}\n",
            "{('Sex',): 0.06389892583288015, ('Rank',): 0.7525360539274631, ('Year',): 0.49093702676921624, ('Degree',): 0.004861680984748484, ('YSdeg',): 0.45542813458360276, ('Sex', 'Rank'): 0.7554917749443394, ('Sex', 'Year'): 0.4911360941886388, ('Sex', 'Degree'): 0.06643739842018892, ('Sex', 'YSdeg'): 0.49304792719667834, ('Rank', 'Year'): 0.8436480933264598, ('Rank', 'Degree'): 0.7557961688386643, ('Rank', 'YSdeg'): 0.7623948189698249, ('Year', 'Degree'): 0.4919014149016442, ('Year', 'YSdeg'): 0.5782019226431887, ('Degree', 'YSdeg'): 0.5409662288237875, ('Sex', 'Rank', 'Year'): 0.8454319861987165, ('Sex', 'Rank', 'Degree'): 0.7583144768153612, ('Sex', 'Rank', 'YSdeg'): 0.7666122610227071, ('Sex', 'Year', 'Degree'): 0.49207944757472966, ('Sex', 'Year', 'YSdeg'): 0.5808063918180406, ('Sex', 'Degree', 'YSdeg'): 0.5832708257660315}\n",
            "{('Sex',): 0.06389892583288015, ('Rank',): 0.7525360539274631, ('Year',): 0.49093702676921624, ('Degree',): 0.004861680984748484, ('YSdeg',): 0.45542813458360276, ('Sex', 'Rank'): 0.7554917749443394, ('Sex', 'Year'): 0.4911360941886388, ('Sex', 'Degree'): 0.06643739842018892, ('Sex', 'YSdeg'): 0.49304792719667834, ('Rank', 'Year'): 0.8436480933264598, ('Rank', 'Degree'): 0.7557961688386643, ('Rank', 'YSdeg'): 0.7623948189698249, ('Year', 'Degree'): 0.4919014149016442, ('Year', 'YSdeg'): 0.5782019226431887, ('Degree', 'YSdeg'): 0.5409662288237875, ('Sex', 'Rank', 'Year'): 0.8454319861987165, ('Sex', 'Rank', 'Degree'): 0.7583144768153612, ('Sex', 'Rank', 'YSdeg'): 0.7666122610227071, ('Sex', 'Year', 'Degree'): 0.49207944757472966, ('Sex', 'Year', 'YSdeg'): 0.5808063918180406, ('Sex', 'Degree', 'YSdeg'): 0.5832708257660315, ('Rank', 'Year', 'Degree'): 0.8437395200874137}\n",
            "{('Sex',): 0.06389892583288015, ('Rank',): 0.7525360539274631, ('Year',): 0.49093702676921624, ('Degree',): 0.004861680984748484, ('YSdeg',): 0.45542813458360276, ('Sex', 'Rank'): 0.7554917749443394, ('Sex', 'Year'): 0.4911360941886388, ('Sex', 'Degree'): 0.06643739842018892, ('Sex', 'YSdeg'): 0.49304792719667834, ('Rank', 'Year'): 0.8436480933264598, ('Rank', 'Degree'): 0.7557961688386643, ('Rank', 'YSdeg'): 0.7623948189698249, ('Year', 'Degree'): 0.4919014149016442, ('Year', 'YSdeg'): 0.5782019226431887, ('Degree', 'YSdeg'): 0.5409662288237875, ('Sex', 'Rank', 'Year'): 0.8454319861987165, ('Sex', 'Rank', 'Degree'): 0.7583144768153612, ('Sex', 'Rank', 'YSdeg'): 0.7666122610227071, ('Sex', 'Year', 'Degree'): 0.49207944757472966, ('Sex', 'Year', 'YSdeg'): 0.5808063918180406, ('Sex', 'Degree', 'YSdeg'): 0.5832708257660315, ('Rank', 'Year', 'Degree'): 0.8437395200874137, ('Rank', 'Year', 'YSdeg'): 0.8456725764485596}\n",
            "{('Sex',): 0.06389892583288015, ('Rank',): 0.7525360539274631, ('Year',): 0.49093702676921624, ('Degree',): 0.004861680984748484, ('YSdeg',): 0.45542813458360276, ('Sex', 'Rank'): 0.7554917749443394, ('Sex', 'Year'): 0.4911360941886388, ('Sex', 'Degree'): 0.06643739842018892, ('Sex', 'YSdeg'): 0.49304792719667834, ('Rank', 'Year'): 0.8436480933264598, ('Rank', 'Degree'): 0.7557961688386643, ('Rank', 'YSdeg'): 0.7623948189698249, ('Year', 'Degree'): 0.4919014149016442, ('Year', 'YSdeg'): 0.5782019226431887, ('Degree', 'YSdeg'): 0.5409662288237875, ('Sex', 'Rank', 'Year'): 0.8454319861987165, ('Sex', 'Rank', 'Degree'): 0.7583144768153612, ('Sex', 'Rank', 'YSdeg'): 0.7666122610227071, ('Sex', 'Year', 'Degree'): 0.49207944757472966, ('Sex', 'Year', 'YSdeg'): 0.5808063918180406, ('Sex', 'Degree', 'YSdeg'): 0.5832708257660315, ('Rank', 'Year', 'Degree'): 0.8437395200874137, ('Rank', 'Year', 'YSdeg'): 0.8456725764485596, ('Rank', 'Degree', 'YSdeg'): 0.7625149185326454}\n",
            "{('Sex',): 0.06389892583288015, ('Rank',): 0.7525360539274631, ('Year',): 0.49093702676921624, ('Degree',): 0.004861680984748484, ('YSdeg',): 0.45542813458360276, ('Sex', 'Rank'): 0.7554917749443394, ('Sex', 'Year'): 0.4911360941886388, ('Sex', 'Degree'): 0.06643739842018892, ('Sex', 'YSdeg'): 0.49304792719667834, ('Rank', 'Year'): 0.8436480933264598, ('Rank', 'Degree'): 0.7557961688386643, ('Rank', 'YSdeg'): 0.7623948189698249, ('Year', 'Degree'): 0.4919014149016442, ('Year', 'YSdeg'): 0.5782019226431887, ('Degree', 'YSdeg'): 0.5409662288237875, ('Sex', 'Rank', 'Year'): 0.8454319861987165, ('Sex', 'Rank', 'Degree'): 0.7583144768153612, ('Sex', 'Rank', 'YSdeg'): 0.7666122610227071, ('Sex', 'Year', 'Degree'): 0.49207944757472966, ('Sex', 'Year', 'YSdeg'): 0.5808063918180406, ('Sex', 'Degree', 'YSdeg'): 0.5832708257660315, ('Rank', 'Year', 'Degree'): 0.8437395200874137, ('Rank', 'Year', 'YSdeg'): 0.8456725764485596, ('Rank', 'Degree', 'YSdeg'): 0.7625149185326454, ('Year', 'Degree', 'YSdeg'): 0.6236261611533503}\n",
            "{('Sex',): 0.06389892583288015, ('Rank',): 0.7525360539274631, ('Year',): 0.49093702676921624, ('Degree',): 0.004861680984748484, ('YSdeg',): 0.45542813458360276, ('Sex', 'Rank'): 0.7554917749443394, ('Sex', 'Year'): 0.4911360941886388, ('Sex', 'Degree'): 0.06643739842018892, ('Sex', 'YSdeg'): 0.49304792719667834, ('Rank', 'Year'): 0.8436480933264598, ('Rank', 'Degree'): 0.7557961688386643, ('Rank', 'YSdeg'): 0.7623948189698249, ('Year', 'Degree'): 0.4919014149016442, ('Year', 'YSdeg'): 0.5782019226431887, ('Degree', 'YSdeg'): 0.5409662288237875, ('Sex', 'Rank', 'Year'): 0.8454319861987165, ('Sex', 'Rank', 'Degree'): 0.7583144768153612, ('Sex', 'Rank', 'YSdeg'): 0.7666122610227071, ('Sex', 'Year', 'Degree'): 0.49207944757472966, ('Sex', 'Year', 'YSdeg'): 0.5808063918180406, ('Sex', 'Degree', 'YSdeg'): 0.5832708257660315, ('Rank', 'Year', 'Degree'): 0.8437395200874137, ('Rank', 'Year', 'YSdeg'): 0.8456725764485596, ('Rank', 'Degree', 'YSdeg'): 0.7625149185326454, ('Year', 'Degree', 'YSdeg'): 0.6236261611533503, ('Sex', 'Rank', 'Year', 'Degree'): 0.845547641297936}\n",
            "{('Sex',): 0.06389892583288015, ('Rank',): 0.7525360539274631, ('Year',): 0.49093702676921624, ('Degree',): 0.004861680984748484, ('YSdeg',): 0.45542813458360276, ('Sex', 'Rank'): 0.7554917749443394, ('Sex', 'Year'): 0.4911360941886388, ('Sex', 'Degree'): 0.06643739842018892, ('Sex', 'YSdeg'): 0.49304792719667834, ('Rank', 'Year'): 0.8436480933264598, ('Rank', 'Degree'): 0.7557961688386643, ('Rank', 'YSdeg'): 0.7623948189698249, ('Year', 'Degree'): 0.4919014149016442, ('Year', 'YSdeg'): 0.5782019226431887, ('Degree', 'YSdeg'): 0.5409662288237875, ('Sex', 'Rank', 'Year'): 0.8454319861987165, ('Sex', 'Rank', 'Degree'): 0.7583144768153612, ('Sex', 'Rank', 'YSdeg'): 0.7666122610227071, ('Sex', 'Year', 'Degree'): 0.49207944757472966, ('Sex', 'Year', 'YSdeg'): 0.5808063918180406, ('Sex', 'Degree', 'YSdeg'): 0.5832708257660315, ('Rank', 'Year', 'Degree'): 0.8437395200874137, ('Rank', 'Year', 'YSdeg'): 0.8456725764485596, ('Rank', 'Degree', 'YSdeg'): 0.7625149185326454, ('Year', 'Degree', 'YSdeg'): 0.6236261611533503, ('Sex', 'Rank', 'Year', 'Degree'): 0.845547641297936, ('Sex', 'Rank', 'Year', 'YSdeg'): 0.8490366192262851}\n",
            "{('Sex',): 0.06389892583288015, ('Rank',): 0.7525360539274631, ('Year',): 0.49093702676921624, ('Degree',): 0.004861680984748484, ('YSdeg',): 0.45542813458360276, ('Sex', 'Rank'): 0.7554917749443394, ('Sex', 'Year'): 0.4911360941886388, ('Sex', 'Degree'): 0.06643739842018892, ('Sex', 'YSdeg'): 0.49304792719667834, ('Rank', 'Year'): 0.8436480933264598, ('Rank', 'Degree'): 0.7557961688386643, ('Rank', 'YSdeg'): 0.7623948189698249, ('Year', 'Degree'): 0.4919014149016442, ('Year', 'YSdeg'): 0.5782019226431887, ('Degree', 'YSdeg'): 0.5409662288237875, ('Sex', 'Rank', 'Year'): 0.8454319861987165, ('Sex', 'Rank', 'Degree'): 0.7583144768153612, ('Sex', 'Rank', 'YSdeg'): 0.7666122610227071, ('Sex', 'Year', 'Degree'): 0.49207944757472966, ('Sex', 'Year', 'YSdeg'): 0.5808063918180406, ('Sex', 'Degree', 'YSdeg'): 0.5832708257660315, ('Rank', 'Year', 'Degree'): 0.8437395200874137, ('Rank', 'Year', 'YSdeg'): 0.8456725764485596, ('Rank', 'Degree', 'YSdeg'): 0.7625149185326454, ('Year', 'Degree', 'YSdeg'): 0.6236261611533503, ('Sex', 'Rank', 'Year', 'Degree'): 0.845547641297936, ('Sex', 'Rank', 'Year', 'YSdeg'): 0.8490366192262851, ('Sex', 'Rank', 'Degree', 'YSdeg'): 0.7671813414350668}\n",
            "{('Sex',): 0.06389892583288015, ('Rank',): 0.7525360539274631, ('Year',): 0.49093702676921624, ('Degree',): 0.004861680984748484, ('YSdeg',): 0.45542813458360276, ('Sex', 'Rank'): 0.7554917749443394, ('Sex', 'Year'): 0.4911360941886388, ('Sex', 'Degree'): 0.06643739842018892, ('Sex', 'YSdeg'): 0.49304792719667834, ('Rank', 'Year'): 0.8436480933264598, ('Rank', 'Degree'): 0.7557961688386643, ('Rank', 'YSdeg'): 0.7623948189698249, ('Year', 'Degree'): 0.4919014149016442, ('Year', 'YSdeg'): 0.5782019226431887, ('Degree', 'YSdeg'): 0.5409662288237875, ('Sex', 'Rank', 'Year'): 0.8454319861987165, ('Sex', 'Rank', 'Degree'): 0.7583144768153612, ('Sex', 'Rank', 'YSdeg'): 0.7666122610227071, ('Sex', 'Year', 'Degree'): 0.49207944757472966, ('Sex', 'Year', 'YSdeg'): 0.5808063918180406, ('Sex', 'Degree', 'YSdeg'): 0.5832708257660315, ('Rank', 'Year', 'Degree'): 0.8437395200874137, ('Rank', 'Year', 'YSdeg'): 0.8456725764485596, ('Rank', 'Degree', 'YSdeg'): 0.7625149185326454, ('Year', 'Degree', 'YSdeg'): 0.6236261611533503, ('Sex', 'Rank', 'Year', 'Degree'): 0.845547641297936, ('Sex', 'Rank', 'Year', 'YSdeg'): 0.8490366192262851, ('Sex', 'Rank', 'Degree', 'YSdeg'): 0.7671813414350668, ('Sex', 'Year', 'Degree', 'YSdeg'): 0.6311597502907434}\n",
            "{('Sex',): 0.06389892583288015, ('Rank',): 0.7525360539274631, ('Year',): 0.49093702676921624, ('Degree',): 0.004861680984748484, ('YSdeg',): 0.45542813458360276, ('Sex', 'Rank'): 0.7554917749443394, ('Sex', 'Year'): 0.4911360941886388, ('Sex', 'Degree'): 0.06643739842018892, ('Sex', 'YSdeg'): 0.49304792719667834, ('Rank', 'Year'): 0.8436480933264598, ('Rank', 'Degree'): 0.7557961688386643, ('Rank', 'YSdeg'): 0.7623948189698249, ('Year', 'Degree'): 0.4919014149016442, ('Year', 'YSdeg'): 0.5782019226431887, ('Degree', 'YSdeg'): 0.5409662288237875, ('Sex', 'Rank', 'Year'): 0.8454319861987165, ('Sex', 'Rank', 'Degree'): 0.7583144768153612, ('Sex', 'Rank', 'YSdeg'): 0.7666122610227071, ('Sex', 'Year', 'Degree'): 0.49207944757472966, ('Sex', 'Year', 'YSdeg'): 0.5808063918180406, ('Sex', 'Degree', 'YSdeg'): 0.5832708257660315, ('Rank', 'Year', 'Degree'): 0.8437395200874137, ('Rank', 'Year', 'YSdeg'): 0.8456725764485596, ('Rank', 'Degree', 'YSdeg'): 0.7625149185326454, ('Year', 'Degree', 'YSdeg'): 0.6236261611533503, ('Sex', 'Rank', 'Year', 'Degree'): 0.845547641297936, ('Sex', 'Rank', 'Year', 'YSdeg'): 0.8490366192262851, ('Sex', 'Rank', 'Degree', 'YSdeg'): 0.7671813414350668, ('Sex', 'Year', 'Degree', 'YSdeg'): 0.6311597502907434, ('Rank', 'Year', 'Degree', 'YSdeg'): 0.8485077204335426}\n",
            "{('Sex',): 0.06389892583288015, ('Rank',): 0.7525360539274631, ('Year',): 0.49093702676921624, ('Degree',): 0.004861680984748484, ('YSdeg',): 0.45542813458360276, ('Sex', 'Rank'): 0.7554917749443394, ('Sex', 'Year'): 0.4911360941886388, ('Sex', 'Degree'): 0.06643739842018892, ('Sex', 'YSdeg'): 0.49304792719667834, ('Rank', 'Year'): 0.8436480933264598, ('Rank', 'Degree'): 0.7557961688386643, ('Rank', 'YSdeg'): 0.7623948189698249, ('Year', 'Degree'): 0.4919014149016442, ('Year', 'YSdeg'): 0.5782019226431887, ('Degree', 'YSdeg'): 0.5409662288237875, ('Sex', 'Rank', 'Year'): 0.8454319861987165, ('Sex', 'Rank', 'Degree'): 0.7583144768153612, ('Sex', 'Rank', 'YSdeg'): 0.7666122610227071, ('Sex', 'Year', 'Degree'): 0.49207944757472966, ('Sex', 'Year', 'YSdeg'): 0.5808063918180406, ('Sex', 'Degree', 'YSdeg'): 0.5832708257660315, ('Rank', 'Year', 'Degree'): 0.8437395200874137, ('Rank', 'Year', 'YSdeg'): 0.8456725764485596, ('Rank', 'Degree', 'YSdeg'): 0.7625149185326454, ('Year', 'Degree', 'YSdeg'): 0.6236261611533503, ('Sex', 'Rank', 'Year', 'Degree'): 0.845547641297936, ('Sex', 'Rank', 'Year', 'YSdeg'): 0.8490366192262851, ('Sex', 'Rank', 'Degree', 'YSdeg'): 0.7671813414350668, ('Sex', 'Year', 'Degree', 'YSdeg'): 0.6311597502907434, ('Rank', 'Year', 'Degree', 'YSdeg'): 0.8485077204335426, ('Sex', 'Rank', 'Year', 'Degree', 'YSdeg'): 0.854718067441097}\n"
          ]
        },
        {
          "output_type": "stream",
          "name": "stderr",
          "text": [
            "/usr/local/lib/python3.7/dist-packages/statsmodels/tsa/tsatools.py:142: FutureWarning: In a future version of pandas all arguments of concat except for the argument 'objs' will be keyword-only\n",
            "  x = pd.concat(x[::order], 1)\n"
          ]
        }
      ]
    }
  ],
  "metadata": {
    "kernelspec": {
      "display_name": "Python 3",
      "language": "python",
      "name": "python3"
    },
    "language_info": {
      "codemirror_mode": {
        "name": "ipython",
        "version": 3
      },
      "file_extension": ".py",
      "mimetype": "text/x-python",
      "name": "python",
      "nbconvert_exporter": "python",
      "pygments_lexer": "ipython3",
      "version": "3.8.3"
    },
    "colab": {
      "provenance": [],
      "collapsed_sections": []
    }
  },
  "nbformat": 4,
  "nbformat_minor": 0
}