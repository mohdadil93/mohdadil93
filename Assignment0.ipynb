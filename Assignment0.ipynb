{
  "nbformat": 4,
  "nbformat_minor": 0,
  "metadata": {
    "colab": {
      "name": "Assignment0.ipynb",
      "provenance": [],
      "collapsed_sections": [],
      "authorship_tag": "ABX9TyNLsOl9l/Dik/0qSHmoJBPC",
      "include_colab_link": true
    },
    "kernelspec": {
      "name": "python3",
      "display_name": "Python 3"
    },
    "language_info": {
      "name": "python"
    }
  },
  "cells": [
    {
      "cell_type": "markdown",
      "metadata": {
        "id": "view-in-github",
        "colab_type": "text"
      },
      "source": [
        "<a href=\"https://colab.research.google.com/github/mohdadil93/mohdadil93/blob/main/Assignment0.ipynb\" target=\"_parent\"><img src=\"https://colab.research.google.com/assets/colab-badge.svg\" alt=\"Open In Colab\"/></a>"
      ]
    },
    {
      "cell_type": "code",
      "source": [
        "import re\n",
        "f=open(\"db1.txt\",\"a\")\n",
        "f.close()\n",
        "def register(email,password):\n",
        "  regex1 = r'\\b[A-Z|a-z]+@[A-Z|a-z]+\\.[A-Z|a-z]{2,3}\\b'\n",
        "  regex2 = \"^.*(?=.{6,15})(?=.*\\d)(?=.*[a-z])(?=.*[A-Z])(?=.*[!@#$%^&*()-+?_=,<>/]).*$\"\n",
        "  result1 = re.findall(regex1, email)\n",
        "  result2 = re.findall(regex2, password)\n",
        "  if (result1 and result2):\n",
        "    print(\"Successfuly registered, use credentials to login again\")\n",
        "    f=open(\"db1.txt\",\"a\")\n",
        "    f.write(email+\",\"+password+\"\\n\")\n",
        "    f.close()\n",
        "  else:\n",
        "    print(\"Incorrect Email/Password, please ensure your credentials meet the criteria for setting username and password\")\n",
        "\n",
        "def login(email,password):\n",
        "  success=False\n",
        "  f=open(\"db1.txt\",\"r\")\n",
        "  for i in f:\n",
        "    a,b=i.split(\",\")\n",
        "    b=b.strip()\n",
        "    if(a==email and b==password):\n",
        "      success=True\n",
        "      break\n",
        "  f.close()\n",
        "  if(success):\n",
        "    print(\"Login Successful\")\n",
        "  else:\n",
        "    print(\"Wrong email/password, Please register(reg)\")\n",
        "    begin()\n",
        "\n",
        "def forgot():\n",
        "  success=False\n",
        "  email=input(\"Enter username/email to retrieve your original password: \")\n",
        "  f=open(\"db1.txt\",\"r\")\n",
        "  for i in f:\n",
        "    a,b=i.split(\",\")\n",
        "    b=b.strip()\n",
        "    if(a==email):\n",
        "      success=True\n",
        "      break\n",
        "  f.close()\n",
        "  if(success):\n",
        "    print(\"Password for the username enetered is :\"+b)\n",
        "  else:\n",
        "    print(\"Username does not exist, Please register(reg)\")\n",
        "    begin()\n",
        "\n",
        "def begin():\n",
        "  global option\n",
        "  option=input(\"Enter the correct option: 'login' to Login, 'reg' to Register and 'forgot' in case of Forgot Password: \")\n",
        "  if(option==\"login\"):\n",
        "    email=input(\"Enter username/email: \")\n",
        "    password=input(\"Enter password: \")\n",
        "    login(email,password)\n",
        "  elif (option==\"reg\"):\n",
        "    print(\"<<Conditions for username: Should not start with special characters/numbers and should have proper syntax like xxx@gmail.com/yyy@yahoo.in>>\")\n",
        "    email=input(\"Enter username/email to register: \")\n",
        "    print(\"<<Conditions for password: Must have minimum 1 special character/1 digit/1 uppercase letter/1 lowercase letter and length should be less than 16 and greater than 5 characters>>\")\n",
        "    password=input(\"Enter the password to register: \")\n",
        "    register(email,password)\n",
        "  elif (option==\"forgot\"):\n",
        "    forgot()\n",
        "  if (option!=\"login\" and option!=\"reg\" and option!=\"forgot\"):\n",
        "    begin()\n",
        "begin()"
      ],
      "metadata": {
        "colab": {
          "base_uri": "https://localhost:8080/"
        },
        "id": "DhgBRWGP6e7o",
        "outputId": "39dbc233-dc6a-4032-920b-f66c2f82a114"
      },
      "execution_count": 31,
      "outputs": [
        {
          "output_type": "stream",
          "name": "stdout",
          "text": [
            "Enter the correct option: 'login' to Login, 'reg' to Register and 'forgot' in case of Forgot Password: forgot\n",
            "Enter username/email to retrieve your original password: item@gmail.com\n",
            "Username does not exist, Please register(reg)\n",
            "Enter the correct option: 'login' to Login, 'reg' to Register and 'forgot' in case of Forgot Password: login\n",
            "Enter username/email: ueni@linked.com\n",
            "Enter password: temi@987\n",
            "Wrong email/password, Please register(reg)\n",
            "Enter the correct option: 'login' to Login, 'reg' to Register and 'forgot' in case of Forgot Password: login\n",
            "Enter username/email: snooz@yahoo.com\n",
            "Enter password: Uniq@876\n",
            "Login Successful\n"
          ]
        }
      ]
    },
    {
      "cell_type": "code",
      "source": [
        "def register(email,password):\n",
        "  check1=\"@\"\n",
        "  check2=\".\"\n",
        "  char_num = ['!','#','$','%','^','&','*','(',')','-','+','?','_','=',',','<','>','/','1','2','3','4','5','6','7','8','9','0']\n",
        "  special_char = ['!','@','#','$','%','^','&','*','(',')','-','+','?','_','=',',','<','>','/']\n",
        "  if (((check1 in email) and (check2 in email) and ((email.find(check2))-(email.find(check1)))>=2 and (email.find(check1))!=0 and (email.startswith(tuple(char_num))==False))) and (((len(password)>5 and len(password)<16) and (password.startswith(tuple(special_char))==False) and (any(map(str.isdigit,password)))and(any(map(str.isupper,password)))and(any(map(str.islower,password)))==True)):\n",
        "    print(\"Correct Username\")\n",
        "    print(\"Correct Password\")\n",
        "    f=open(\"db1.txt\",\"a\")\n",
        "    f.write(email+\",\"+password)\n",
        "    f.close()\n",
        "  else:\n",
        "    print(\"Incorrect Email/Password\")\n",
        "email=input(\"Enter username to register: \")\n",
        "password=input(\"Enter the password: \")\n",
        "register(email,password)"
      ],
      "metadata": {
        "colab": {
          "base_uri": "https://localhost:8080/"
        },
        "id": "08bIwcb5zmCo",
        "outputId": "453a845f-b65f-4502-dfc9-a1a807e586a4"
      },
      "execution_count": null,
      "outputs": [
        {
          "output_type": "stream",
          "name": "stdout",
          "text": [
            "Enter username to register: asnams\n",
            "Enter the password: asms\n",
            "Incorrect Email/Password\n"
          ]
        }
      ]
    },
    {
      "cell_type": "code",
      "source": [
        "def reg1():\n",
        "  print(\"Register\")\n",
        "\n",
        "def logn1():\n",
        "  print(\"Login\")\n",
        "\n",
        "def forgot1():\n",
        "  print(\"Forgot\")"
      ],
      "metadata": {
        "id": "A7zJdl2_GSv_"
      },
      "execution_count": null,
      "outputs": []
    },
    {
      "cell_type": "code",
      "source": [
        "def access1():\n",
        "  option=(str(input()))\n",
        "  if(option==\"Register\"):\n",
        "    reg1()\n",
        "  elif(option==\"Login\"):\n",
        "    logn1()\n",
        "  elif(option==\"Forgot\"):\n",
        "    forgot1()\n",
        "  else:\n",
        "    access1()\n",
        "access1()"
      ],
      "metadata": {
        "colab": {
          "base_uri": "https://localhost:8080/"
        },
        "id": "-aRsZqLqGlVw",
        "outputId": "0bd70b8d-9bce-4049-927b-7986c5c98283"
      },
      "execution_count": null,
      "outputs": [
        {
          "output_type": "stream",
          "name": "stdout",
          "text": [
            "nmd\n",
            "reg\n",
            "register\n",
            "Register\n",
            "Register\n"
          ]
        }
      ]
    },
    {
      "cell_type": "code",
      "source": [
        "import re\n",
        "def register(email,password):\n",
        "  regex1 = r'\\b[A-Z|a-z]+@[A-Z|a-z]+\\.[A-Z|a-z]{2,3}\\b'\n",
        "  regex2 = \"^.*(?=.{6,15})(?=.*\\d)(?=.*[a-z])(?=.*[A-Z])(?=.*[!@#$%^&*()-+?_=,<>/]).*$\"\n",
        "  result1 = re.findall(regex1, email)\n",
        "  result2 = re.findall(regex2, password)\n",
        "  if (result1 and result2):\n",
        "    print(\"Successfuly registered, Use credentials to login again\")\n",
        "    f=open(\"db1.txt\",\"a\")\n",
        "    f.write(email+\",\"+password)\n",
        "    f.close()\n",
        "  else:\n",
        "    print(\"Incorrect Email/Password, please ensure your credentials meet the criteria for setting username and password\")\n",
        "email=input(\"Enter username to register: \")\n",
        "password=input(\"Enter the password: \")\n",
        "register(email,password)"
      ],
      "metadata": {
        "colab": {
          "base_uri": "https://localhost:8080/"
        },
        "id": "E0Z_feS9lXNZ",
        "outputId": "9683e85b-866d-46a4-d816-b7d45018c7af"
      },
      "execution_count": null,
      "outputs": [
        {
          "output_type": "stream",
          "name": "stdout",
          "text": [
            "Enter username to register: masm\n",
            "Enter the password: kass\n",
            "Incorrect Email/Password\n"
          ]
        }
      ]
    }
  ]
}