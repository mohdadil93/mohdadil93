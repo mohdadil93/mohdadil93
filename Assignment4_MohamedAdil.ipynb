{
  "nbformat": 4,
  "nbformat_minor": 0,
  "metadata": {
    "colab": {
      "provenance": [],
      "collapsed_sections": [],
      "authorship_tag": "ABX9TyNn9hkYAA/5PyOD7dI+oulV",
      "include_colab_link": true
    },
    "kernelspec": {
      "name": "python3",
      "display_name": "Python 3"
    },
    "language_info": {
      "name": "python"
    }
  },
  "cells": [
    {
      "cell_type": "markdown",
      "metadata": {
        "id": "view-in-github",
        "colab_type": "text"
      },
      "source": [
        "<a href=\"https://colab.research.google.com/github/mohdadil93/mohdadil93/blob/main/Assignment4_MohamedAdil.ipynb\" target=\"_parent\"><img src=\"https://colab.research.google.com/assets/colab-badge.svg\" alt=\"Open In Colab\"/></a>"
      ]
    },
    {
      "cell_type": "code",
      "execution_count": 2,
      "metadata": {
        "id": "-P135FhyXZvc"
      },
      "outputs": [],
      "source": [
        "import numpy as np"
      ]
    },
    {
      "cell_type": "code",
      "source": [
        "#import phi from train dataset\n",
        "phi=np.loadtxt('/content/train.csv',dtype='float',delimiter=',',skiprows=1,usecols=tuple(range(1,14)))"
      ],
      "metadata": {
        "id": "_73qIBYOYTOY"
      },
      "execution_count": 3,
      "outputs": []
    },
    {
      "cell_type": "code",
      "source": [
        "#import phi_test from train dataset\n",
        "phi_test=np.loadtxt('/content/test.csv',dtype='float',delimiter=',',skiprows=1,usecols=tuple(range(1,14)))"
      ],
      "metadata": {
        "id": "ZFJhFMFzZHE9"
      },
      "execution_count": 4,
      "outputs": []
    },
    {
      "cell_type": "code",
      "source": [
        "#import y from train dataset\n",
        "y=np.loadtxt('/content/train.csv',dtype='float',delimiter=',',skiprows=1,usecols=14,ndmin=2)"
      ],
      "metadata": {
        "id": "Eskq86cDayW1"
      },
      "execution_count": 5,
      "outputs": []
    },
    {
      "cell_type": "code",
      "source": [
        "#concatenate coloumn of 1s to right of phi and phi_test\n",
        "phi=np.concatenate((phi,np.ones((400,1))),axis=1)\n",
        "phi_test=np.concatenate((phi_test,np.ones((105,1))),axis=1)"
      ],
      "metadata": {
        "id": "R35VV-YEbW_W"
      },
      "execution_count": 6,
      "outputs": []
    },
    {
      "cell_type": "code",
      "source": [
        "#applying min max scaling on each coloumn of phi and phi_test\n",
        "for x in range(0,13):\n",
        "  c_max=max(phi[:,x])\n",
        "  c_min=min(phi[:,x])\n",
        "  phi[:,x]=(phi[:,x]-c_min)/(c_max-c_min)\n",
        "  phi_test[:,x]=(phi_test[:,x]-c_min)/(c_max-c_min)"
      ],
      "metadata": {
        "id": "UqjlEAQLeU_o"
      },
      "execution_count": 7,
      "outputs": []
    },
    {
      "cell_type": "code",
      "source": [
        "#applying log scaling on y\n",
        "y=np.log(y)"
      ],
      "metadata": {
        "id": "ZNbVPYf1pU6R"
      },
      "execution_count": 8,
      "outputs": []
    },
    {
      "cell_type": "code",
      "source": [
        "#Function to calculate change in error function\n",
        "def new_func(p,phi,w):\n",
        "  if(p==2):\n",
        "    new_func=(2*(np.dot(np.dot(np.transpose(phi),phi),w)-np.dot(np.transpose(phi),y))+lambd*p*np.power(np.absolute(w),(p-1)))\n",
        "  if(p<2 and p>1):\n",
        "    new_func=(2*(np.dot(np.dot(np.transpose(phi),phi),w)-np.dot(np.transpose(phi),y))+lambd*p*np.power(np.absolute(w),(p-1))*np.sign(w))\n",
        "  return new_func"
      ],
      "metadata": {
        "id": "PnWa3eS9q28e"
      },
      "execution_count": 12,
      "outputs": []
    },
    {
      "cell_type": "code",
      "source": [
        "#Dictionary containing filenames as keys and p as values\n",
        "filenames={\n",
        "    'output.csv':2,\n",
        "    'output_p1.csv':1.75,\n",
        "    'output_p2.csv':1.5,\n",
        "    'output_p3.csv':1.3\n",
        "}"
      ],
      "metadata": {
        "id": "_UP2zjVbZE0v"
      },
      "execution_count": 13,
      "outputs": []
    },
    {
      "cell_type": "code",
      "source": [
        "#For each item in this dictionary\n",
        "for (fname,p) in filenames.items():\n",
        "  #Set the w to all 0s\n",
        "  w=np.zeros((14,1))\n",
        "\n",
        "  lambd=0.2\n",
        "  t=0.00012\n",
        "  w_new=w-t*new_func(p,phi,w)\n",
        "\n",
        "  i=0\n",
        "  #Repeat steps until error between consecutive w is less than threshold\n",
        "  while(np.linalg.norm(w_new-w)>10**-10):\n",
        "    w=w_new\n",
        "    w_new=w-t*new_func(p,phi,w)\n",
        "    i=i+1\n",
        "\n",
        "  #Load values of id\n",
        "  id_test=np.loadtxt('/content/test.csv',dtype='int',delimiter=',',skiprows=1,usecols=0,ndmin=2)\n",
        "\n",
        "  #Calculate y for test data\n",
        "  y_test=np.exp(np.dot(phi_test,w_new))\n",
        "\n",
        "  #Save the ids and y\n",
        "  np.savetxt(fname,np.concatenate((id_test,y_test),axis=1),delimiter=',',fmt=['%d','%f'],header='ID,MEDV',comments='')"
      ],
      "metadata": {
        "id": "5VrlFvt6bs6s"
      },
      "execution_count": 14,
      "outputs": []
    }
  ]
}